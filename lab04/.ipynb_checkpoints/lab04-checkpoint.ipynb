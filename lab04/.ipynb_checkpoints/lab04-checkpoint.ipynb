{
 "cells": [
  {
   "cell_type": "code",
   "execution_count": 27,
   "metadata": {
    "collapsed": false
   },
   "outputs": [],
   "source": [
    "    \n",
    "# %%writefile source03.py\n",
    "% matplotlib inline\n",
    "# tasks 1, 2, 3\n",
    "\n",
    "import numpy as np\n",
    "import math\n",
    "import matplotlib.pyplot as plt\n",
    "from scipy import signal\n",
    "from scipy.fftpack import fft, fftfreq\n",
    "\n",
    "def sig_modulation(m, t):\n",
    "  phi0 = 0.43 * np.pi\n",
    "      #     i = 0.43 * np.pi\n",
    "    # A_m = 5 \n",
    "    # modulation depth \n",
    "\n",
    "    # 0.75\n",
    "    F_m = 10\n",
    "    s_m = m * np.sin( F_m* 2 * np.pi * t + phi  )\n",
    "\n",
    "    # carrier signal\n",
    "    f_c = 50 \n",
    "    phi_c = 0.7 * np.pi\n",
    "    s_c = np.cos(f_c* 2 * np.pi * t + phi_c)\n",
    "    A_0 = 0.5\n",
    "\n",
    "    # modulation\n",
    "    s_am = A_0 * (1 + s_m) * s_c\n",
    "    # m = A_m / A_0\n",
    "\n",
    "    fig = plt.figure()\n",
    "    s = 'Depth = ' + str(m) \n",
    "    plt.title(s)\n",
    "    plt.plot(t, s_am)\n",
    "    # fig.savefig('pictures/003_1rectImplses.png', dpi=100)\n",
    "    plt.show()\n",
    "    # spectrus\n",
    "    N = len(t)\n",
    "    T = 1.0 / Fs\n",
    "    s_amf = fft(s_am)\n",
    "    xf = fftfreq(N, 1.0 / Fs)\n",
    "    fig = plt.figure()\n",
    "    plt.title(s)\n",
    "    plt.xlim(-200, 200)\n",
    "    plt.ylim(0, 200)\n",
    "    plt.plot(xf, np.abs(s_amf)) \n",
    "    # fig.savefig('pictures/003_2rectImplSpectr.png', dpi=100)\n",
    "    plt.show()\n",
    "\n",
    "Fs = 100 # discrete frequency\n",
    "t = np.linspace(0, 1, 2 * Fs)\n",
    "sig_modulation(0,t)\n",
    "sig_modulation(0.5,t)\n",
    "sig_modulation(1,t)\n",
    "\n",
    "    "
   ]
  },
  {
   "cell_type": "code",
   "execution_count": null,
   "metadata": {
    "collapsed": true
   },
   "outputs": [],
   "source": []
  }
 ],
 "metadata": {
  "kernelspec": {
   "display_name": "Python 3",
   "language": "python",
   "name": "python3"
  },
  "language_info": {
   "codemirror_mode": {
    "name": "ipython",
    "version": 3
   },
   "file_extension": ".py",
   "mimetype": "text/x-python",
   "name": "python",
   "nbconvert_exporter": "python",
   "pygments_lexer": "ipython3",
   "version": "3.6.0"
  }
 },
 "nbformat": 4,
 "nbformat_minor": 2
}
