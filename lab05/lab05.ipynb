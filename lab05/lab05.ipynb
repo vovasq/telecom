{
 "cells": [
  {
   "cell_type": "code",
   "execution_count": null,
   "metadata": {
    "collapsed": true
   },
   "outputs": [],
   "source": [
    "\n",
    "\n",
    "# %%writefile source03.py\n",
    "% matplotlib inline\n",
    "#task 1, 2 phase modulation\n",
    "import numpy as np\n",
    "import matplotlib.pyplot as plt\n",
    "from scipy.fftpack import fft, fftfreq\n",
    "\n",
    "# discrete frequency\n",
    "Fs = 300\n",
    "t = np.linspace(-1, 1, 2 * Fs)\n",
    "# signal parametres\n",
    "F_m = 1.4\n",
    "omega = F_m * 2 * np.pi\n",
    "sig = np.cos(omega * t) \n",
    "       \n",
    "\n",
    "# phase modulation\n",
    "# carrier params\n",
    "A = 1\n",
    "k = 1.0\n",
    "omega_0\n",
    "phm_sig = A * np.cos(omega_0 * t + k * sig )  \n",
    "\n",
    "#demodulation \n",
    "# use square processing\n",
    "# 1 step \n",
    "# multiple with carrier signal and carrier signal + pi / 2\n",
    "phm_sig *= np.cos(omega_0 * t)\n",
    "phm_sig *= np.sin(omega_0 * t)\n",
    "\n",
    "# 2 step\n",
    "# use lowpass filtering\n",
    "order = 5\n",
    "b, a = butter(order, 2 * omega_0 / np.pi / Fs, btype='low', analog=False)\n",
    "de_phm_sig = lfilter(b, a, phm_sig)\n",
    "\n",
    "\n",
    "\n",
    "fig = plt.figure()\n",
    "s = 'Depth = ' + str(m) \n",
    "plt.title(s)\n",
    "plt.plot(t, s_am)\n",
    "#     fig.savefig('pictures/' + picname + 'sig.png', dpi=100)\n",
    "plt.show()\n",
    "\n",
    "# spectrus\n",
    "N = len(t)\n",
    "T = 1.0 / Fs\n",
    "s_amf = fft(s_am)\n",
    "xf = fftfreq(N, 1.0 / Fs)\n",
    "fig = plt.figure()\n",
    "plt.title(s)\n",
    "plt.xlim(-50, 50)\n",
    "plt.ylim(0, 70)\n",
    "plt.grid()\n",
    "plt.plot(xf, np.abs(s_amf)) \n",
    "#     fig.savefig('pictures/' + picname + 'spec.png', dpi=100)\n",
    "plt.show()\n"
   ]
  }
 ],
 "metadata": {
  "kernelspec": {
   "display_name": "Python 3",
   "language": "python",
   "name": "python3"
  },
  "language_info": {
   "codemirror_mode": {
    "name": "ipython",
    "version": 3
   },
   "file_extension": ".py",
   "mimetype": "text/x-python",
   "name": "python",
   "nbconvert_exporter": "python",
   "pygments_lexer": "ipython3",
   "version": "3.6.0"
  }
 },
 "nbformat": 4,
 "nbformat_minor": 2
}
