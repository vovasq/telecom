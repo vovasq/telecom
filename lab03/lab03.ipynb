{
 "cells": [
  {
   "cell_type": "code",
   "execution_count": 17,
   "metadata": {
    "collapsed": false
   },
   "outputs": [
    {
     "name": "stdout",
     "output_type": "stream",
     "text": [
      "Overwriting source/source01.py\n"
     ]
    }
   ],
   "source": [
    "%%writefile source/source01.py\n",
    "\n",
    "import numpy as np\n",
    "import matplotlib.pyplot as plt\n",
    "from scipy.signal import butter, lfilter, freqz\n",
    "from scipy.fftpack import fft, fftfreq\n",
    "\n",
    "%matplotlib inline\n",
    "\n",
    "def butter_lowpass(cutoff, fs, order=5):\n",
    "    nyq = 0.5 * fs\n",
    "    normal_cutoff = cutoff / nyq\n",
    "    b, a = butter(order, normal_cutoff, btype='low', analog=False)\n",
    "    return b, a\n",
    "\n",
    "def butter_lowpass_filter(data, cutoff, fs, order=5):\n",
    "    b, a = butter_lowpass(cutoff, fs, order=order)\n",
    "    y = lfilter(b, a, data)\n",
    "    return y\n",
    "\n",
    "\n",
    "# Filter requirements.\n",
    "order = 6\n",
    "fs = 30.0       # sample rate, Hz\n",
    "cutoff = 3.667  # desired cutoff frequency of the filter, Hz\n",
    "\n",
    "# Demonstrate the use of the filter.\n",
    "# First make some data to be filtered.\n",
    "T = 5.0         # seconds\n",
    "n = int(T * fs) # total number of samples\n",
    "t = np.linspace(0, T, n, endpoint=False)\n",
    "\n",
    "\n",
    "clear_data  = np.sin(1.2*2*np.pi*t)\n",
    "mf_noize = 1.5*np.cos(9*2*np.pi*t) + 0.5*np.sin(12.0*2*np.pi*t)\n",
    "\n",
    "fig = plt.figure()\n",
    "plt.title('Cигнал без шумов')\n",
    "plt.plot(t, clear_data)\n",
    "fig.savefig('pictures/001_true_sig.png', dpi=70)\n",
    "plt.show()\n",
    "\n",
    "\n",
    "fig = plt.figure()\n",
    "plt.title('Cигнал без шумов')\n",
    "clear_dataf = fft(clear_data)\n",
    "xdataf = fftfreq(n , 1.0 / n)\n",
    "plt.plot(xdataf, np.abs(clear_dataf))\n",
    "fig.savefig('pictures/002_true_sig_spec.png', dpi=70)\n",
    "plt.show()\n",
    "\n",
    "# \"Noisy\" data.  We want to recover the 1.2 Hz signal from this.\n",
    "data = clear_data + mf_noize\n",
    "\n",
    "fig = plt.figure()\n",
    "plt.plot(t, data, 'b-', label='Сигнал с шумами')\n",
    "plt.plot(t, clear_data, 'g-', linewidth=2, label='Отфильтрованный сигнал ')\n",
    "plt.grid()\n",
    "plt.legend()\n",
    "fig.savefig('pictures/003_signals.png', dpi=70)\n",
    "plt.show()\n",
    "\n",
    "# Filter the data, and plot both the original and filtered signals.\n",
    "y = butter_lowpass_filter(data, cutoff, fs, order)\n",
    "\n",
    "\n",
    "fig = plt.figure()\n",
    "plt.title('Cигнал c шумами')\n",
    "dataf = fft(data)\n",
    "xdataf = fftfreq(n , 1.0 / n)\n",
    "plt.plot(xdataf, np.abs(dataf))\n",
    "fig.savefig('pictures/004_spctr_noisy_signa.png', dpi=70)\n",
    "plt.show()\n",
    "\n",
    "fig = plt.figure()\n",
    "plt.title('Отфильтрованный сигнал')\n",
    "yf = fft(y)\n",
    "xf = fftfreq(n , 1.0 / n)\n",
    "plt.plot(xf, np.abs(yf))\n",
    "fig.savefig('pictures/005_spctr_signa.png', dpi=70)\n",
    "plt.show()\n"
   ]
  },
  {
   "cell_type": "code",
   "execution_count": null,
   "metadata": {
    "collapsed": true
   },
   "outputs": [],
   "source": []
  }
 ],
 "metadata": {
  "kernelspec": {
   "display_name": "Python 3",
   "language": "python",
   "name": "python3"
  },
  "language_info": {
   "codemirror_mode": {
    "name": "ipython",
    "version": 3
   },
   "file_extension": ".py",
   "mimetype": "text/x-python",
   "name": "python",
   "nbconvert_exporter": "python",
   "pygments_lexer": "ipython3",
   "version": "3.6.0"
  }
 },
 "nbformat": 4,
 "nbformat_minor": 2
}
